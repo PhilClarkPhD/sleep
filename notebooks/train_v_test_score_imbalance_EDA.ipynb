{
 "cells": [
  {
   "cell_type": "code",
   "execution_count": 1,
   "id": "3553f60b-c5a7-49d8-85d3-ac0e0b0283f3",
   "metadata": {},
   "outputs": [],
   "source": [
    "import numpy as np\n",
    "import pandas as pd\n",
    "import matplotlib.pyplot as plt\n",
    "import seaborn as sns"
   ]
  },
  {
   "cell_type": "code",
   "execution_count": 2,
   "id": "1c9a478e-fb7e-410d-9aa5-a550649f5645",
   "metadata": {},
   "outputs": [
    {
     "data": {
      "text/html": [
       "<div>\n",
       "<style scoped>\n",
       "    .dataframe tbody tr th:only-of-type {\n",
       "        vertical-align: middle;\n",
       "    }\n",
       "\n",
       "    .dataframe tbody tr th {\n",
       "        vertical-align: top;\n",
       "    }\n",
       "\n",
       "    .dataframe thead th {\n",
       "        text-align: right;\n",
       "    }\n",
       "</style>\n",
       "<table border=\"1\" class=\"dataframe\">\n",
       "  <thead>\n",
       "    <tr style=\"text-align: right;\">\n",
       "      <th></th>\n",
       "      <th>EEG_std</th>\n",
       "      <th>EEG_ss</th>\n",
       "      <th>EEG_amp</th>\n",
       "      <th>EMG_std</th>\n",
       "      <th>EMG_ss</th>\n",
       "      <th>EMG_events</th>\n",
       "      <th>delta_rel</th>\n",
       "      <th>theta_rel</th>\n",
       "      <th>theta_over_delta</th>\n",
       "      <th>ID</th>\n",
       "      <th>day</th>\n",
       "      <th>ID_day</th>\n",
       "      <th>epoch</th>\n",
       "      <th>score</th>\n",
       "    </tr>\n",
       "  </thead>\n",
       "  <tbody>\n",
       "    <tr>\n",
       "      <th>0</th>\n",
       "      <td>1.808552</td>\n",
       "      <td>3.270094</td>\n",
       "      <td>1.869975</td>\n",
       "      <td>0.540343</td>\n",
       "      <td>0.292754</td>\n",
       "      <td>0.0</td>\n",
       "      <td>0.210136</td>\n",
       "      <td>0.186241</td>\n",
       "      <td>0.886288</td>\n",
       "      <td>ZZ01</td>\n",
       "      <td>BL</td>\n",
       "      <td>ZZ01_BL</td>\n",
       "      <td>0</td>\n",
       "      <td>Non REM</td>\n",
       "    </tr>\n",
       "    <tr>\n",
       "      <th>1</th>\n",
       "      <td>1.043677</td>\n",
       "      <td>1.088574</td>\n",
       "      <td>1.069317</td>\n",
       "      <td>0.455598</td>\n",
       "      <td>0.207570</td>\n",
       "      <td>1.0</td>\n",
       "      <td>0.338948</td>\n",
       "      <td>0.200555</td>\n",
       "      <td>0.591698</td>\n",
       "      <td>ZZ01</td>\n",
       "      <td>BL</td>\n",
       "      <td>ZZ01_BL</td>\n",
       "      <td>1</td>\n",
       "      <td>Non REM</td>\n",
       "    </tr>\n",
       "    <tr>\n",
       "      <th>2</th>\n",
       "      <td>1.510736</td>\n",
       "      <td>2.280886</td>\n",
       "      <td>1.478451</td>\n",
       "      <td>0.471602</td>\n",
       "      <td>0.222428</td>\n",
       "      <td>1.0</td>\n",
       "      <td>0.257066</td>\n",
       "      <td>0.262096</td>\n",
       "      <td>1.019570</td>\n",
       "      <td>ZZ01</td>\n",
       "      <td>BL</td>\n",
       "      <td>ZZ01_BL</td>\n",
       "      <td>2</td>\n",
       "      <td>Non REM</td>\n",
       "    </tr>\n",
       "    <tr>\n",
       "      <th>3</th>\n",
       "      <td>1.437728</td>\n",
       "      <td>2.067189</td>\n",
       "      <td>1.450124</td>\n",
       "      <td>0.478292</td>\n",
       "      <td>0.228766</td>\n",
       "      <td>0.0</td>\n",
       "      <td>0.271698</td>\n",
       "      <td>0.144509</td>\n",
       "      <td>0.531874</td>\n",
       "      <td>ZZ01</td>\n",
       "      <td>BL</td>\n",
       "      <td>ZZ01_BL</td>\n",
       "      <td>3</td>\n",
       "      <td>Non REM</td>\n",
       "    </tr>\n",
       "    <tr>\n",
       "      <th>4</th>\n",
       "      <td>1.669482</td>\n",
       "      <td>2.786269</td>\n",
       "      <td>1.710151</td>\n",
       "      <td>0.477523</td>\n",
       "      <td>0.228029</td>\n",
       "      <td>0.0</td>\n",
       "      <td>0.222431</td>\n",
       "      <td>0.164077</td>\n",
       "      <td>0.737653</td>\n",
       "      <td>ZZ01</td>\n",
       "      <td>BL</td>\n",
       "      <td>ZZ01_BL</td>\n",
       "      <td>4</td>\n",
       "      <td>Non REM</td>\n",
       "    </tr>\n",
       "  </tbody>\n",
       "</table>\n",
       "</div>"
      ],
      "text/plain": [
       "    EEG_std    EEG_ss   EEG_amp   EMG_std    EMG_ss  EMG_events  delta_rel  \\\n",
       "0  1.808552  3.270094  1.869975  0.540343  0.292754         0.0   0.210136   \n",
       "1  1.043677  1.088574  1.069317  0.455598  0.207570         1.0   0.338948   \n",
       "2  1.510736  2.280886  1.478451  0.471602  0.222428         1.0   0.257066   \n",
       "3  1.437728  2.067189  1.450124  0.478292  0.228766         0.0   0.271698   \n",
       "4  1.669482  2.786269  1.710151  0.477523  0.228029         0.0   0.222431   \n",
       "\n",
       "   theta_rel  theta_over_delta    ID day   ID_day  epoch    score  \n",
       "0   0.186241          0.886288  ZZ01  BL  ZZ01_BL      0  Non REM  \n",
       "1   0.200555          0.591698  ZZ01  BL  ZZ01_BL      1  Non REM  \n",
       "2   0.262096          1.019570  ZZ01  BL  ZZ01_BL      2  Non REM  \n",
       "3   0.144509          0.531874  ZZ01  BL  ZZ01_BL      3  Non REM  \n",
       "4   0.164077          0.737653  ZZ01  BL  ZZ01_BL      4  Non REM  "
      ]
     },
     "execution_count": 2,
     "metadata": {},
     "output_type": "execute_result"
    }
   ],
   "source": [
    "path = \"/Users/phil/philclarkphd/sleep/sleep_data/feature_store/features_2024-06-19_14-52-26.csv\"\n",
    "df = pd.read_csv(path, index_col=0)\n",
    "df.head()"
   ]
  },
  {
   "cell_type": "code",
   "execution_count": 3,
   "id": "39e04d26-2864-4179-aa65-a56d4db62242",
   "metadata": {},
   "outputs": [
    {
     "data": {
      "text/plain": [
       "(42802, 14)"
      ]
     },
     "execution_count": 3,
     "metadata": {},
     "output_type": "execute_result"
    }
   ],
   "source": [
    "df.shape"
   ]
  },
  {
   "cell_type": "code",
   "execution_count": 4,
   "id": "612e5483-3924-42ee-b887-8b026a6af136",
   "metadata": {},
   "outputs": [],
   "source": [
    "def train_test_split(\n",
    "    df: pd.DataFrame,\n",
    "    train_size: float = 0.8,\n",
    "    time_series_idx: str = \"epoch\",\n",
    "    group_col: str = \"ID_day\",\n",
    ") -> tuple:\n",
    "    \"\"\"\n",
    "    Splits data into train and test sets. Splitting is done equally across all values in the group_col.\n",
    "    Splits done in time-series fashion - e.g. both train and test are continuous values wrt the time_series_idx.\n",
    "\n",
    "    Args:\n",
    "        df (pd.DataFrame):  A pandas dataframe with the data, group var, and some time-series indicator.\n",
    "        train_size (float): Proportion (between 0 and 1) of data to ues in the training set. Test set will be the\n",
    "        remainder. Defaults to 0.8.\n",
    "        time_series_idx (str): Column name to use to order rows prior to splitting train and test. Defaults to 'epoch'.\n",
    "        group_col (str): Column name to use for grouping data to ensure equal sampling across subjects. Defaults to\n",
    "        'ID_day'.\n",
    "\n",
    "    Returns:\n",
    "        (pd.DataFrame): training data.\n",
    "        (pd.DataFrame): test data.\n",
    "    \"\"\"\n",
    "\n",
    "    # First enforce correct order of time_col by sorting the values within each group of group_col\n",
    "    df = df.sort_values(by=[group_col, time_series_idx])\n",
    "\n",
    "    train_df = pd.DataFrame()\n",
    "    test_df = pd.DataFrame()\n",
    "    \n",
    "    for group in df[group_col].unique():\n",
    "        group_df = df.loc[df[group_col] == group]\n",
    "        total_rows = len(group_df)\n",
    "        train_rows = total_rows * train_size\n",
    "        \n",
    "        train_set = group_df.loc[:train_rows]\n",
    "        test_set = group_df.loc[train_rows:]\n",
    "    \n",
    "        train_df = pd.concat([train_df,train_set])\n",
    "        test_df = pd.concat([test_df,test_set])\n",
    "\n",
    "    return train_df, test_df"
   ]
  },
  {
   "cell_type": "code",
   "execution_count": 5,
   "id": "b1e7b034-a865-417d-83ea-216773615d5b",
   "metadata": {},
   "outputs": [],
   "source": [
    "train, test = train_test_split(df)"
   ]
  },
  {
   "cell_type": "code",
   "execution_count": 26,
   "id": "3bc6d085-1e61-4ad9-a3a4-30659f16bdca",
   "metadata": {},
   "outputs": [
    {
     "data": {
      "text/plain": [
       "score\n",
       "Wake        15508\n",
       "Non REM     13786\n",
       "REM          3027\n",
       "Unscored     1924\n",
       "Name: count, dtype: int64"
      ]
     },
     "execution_count": 26,
     "metadata": {},
     "output_type": "execute_result"
    }
   ],
   "source": [
    "train.score.value_counts()"
   ]
  },
  {
   "cell_type": "code",
   "execution_count": 27,
   "id": "1718142c-8ef7-4e14-b41e-44f64875fcdc",
   "metadata": {},
   "outputs": [
    {
     "data": {
      "text/plain": [
       "score\n",
       "Wake        6072\n",
       "Non REM     1405\n",
       "Unscored     950\n",
       "REM          133\n",
       "Name: count, dtype: int64"
      ]
     },
     "execution_count": 27,
     "metadata": {},
     "output_type": "execute_result"
    }
   ],
   "source": [
    "test.score.value_counts()"
   ]
  },
  {
   "cell_type": "code",
   "execution_count": null,
   "id": "b331cabf-afa7-47c4-9ed5-b6c4e9d8f126",
   "metadata": {},
   "outputs": [],
   "source": []
  }
 ],
 "metadata": {
  "kernelspec": {
   "display_name": "Python 3 (ipykernel)",
   "language": "python",
   "name": "python3"
  },
  "language_info": {
   "codemirror_mode": {
    "name": "ipython",
    "version": 3
   },
   "file_extension": ".py",
   "mimetype": "text/x-python",
   "name": "python",
   "nbconvert_exporter": "python",
   "pygments_lexer": "ipython3",
   "version": "3.9.5"
  }
 },
 "nbformat": 4,
 "nbformat_minor": 5
}
